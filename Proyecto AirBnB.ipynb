{
 "cells": [
  {
   "cell_type": "markdown",
   "metadata": {},
   "source": [
    "Proyeto final de la materia de Herramientas para el analisis de datos"
   ]
  },
  {
   "cell_type": "markdown",
   "metadata": {},
   "source": [
    "El fin de este ejercicio es usar las técnicas aprendidas durante la clase, para realizar un análisis observatorio de las\n",
    "características de AirBnB."
   ]
  },
  {
   "cell_type": "markdown",
   "metadata": {},
   "source": [
    "1.- Importamos las librerías necesarias para el análisis"
   ]
  },
  {
   "cell_type": "markdown",
   "metadata": {},
   "source": [
    "2.- Adquirimos (cargamos) los datos del archivo CSV"
   ]
  },
  {
   "cell_type": "code",
   "execution_count": 110,
   "metadata": {},
   "outputs": [],
   "source": [
    "#Importamos las librerías necesarias\n",
    "import pandas as pd\n",
    "import numpy as np\n",
    "import plotly as pl\n",
    "import streamlit as st\n",
    "import matplotlib.pyplot as plt\n",
    "import seaborn as sns\n",
    "%matplotlib inline "
   ]
  },
  {
   "cell_type": "code",
   "execution_count": 111,
   "metadata": {},
   "outputs": [],
   "source": [
    "#Importamos los datos del archivo\n",
    "origen = pd.read_csv(\"airbnb.csv\")"
   ]
  },
  {
   "cell_type": "markdown",
   "metadata": {},
   "source": [
    "3.- Preprocesamiento. Ahora verificaremos el estado actual de los datos para ver si es necesario eliminar datos innecesarios o rellenar datos faltantes "
   ]
  },
  {
   "cell_type": "code",
   "execution_count": 112,
   "metadata": {
    "scrolled": false
   },
   "outputs": [
    {
     "data": {
      "text/html": [
       "<div>\n",
       "<style scoped>\n",
       "    .dataframe tbody tr th:only-of-type {\n",
       "        vertical-align: middle;\n",
       "    }\n",
       "\n",
       "    .dataframe tbody tr th {\n",
       "        vertical-align: top;\n",
       "    }\n",
       "\n",
       "    .dataframe thead th {\n",
       "        text-align: right;\n",
       "    }\n",
       "</style>\n",
       "<table border=\"1\" class=\"dataframe\">\n",
       "  <thead>\n",
       "    <tr style=\"text-align: right;\">\n",
       "      <th></th>\n",
       "      <th>id</th>\n",
       "      <th>name</th>\n",
       "      <th>host_id</th>\n",
       "      <th>host_name</th>\n",
       "      <th>neighbourhood_group</th>\n",
       "      <th>neighbourhood</th>\n",
       "      <th>latitude</th>\n",
       "      <th>longitude</th>\n",
       "      <th>room_type</th>\n",
       "      <th>price</th>\n",
       "      <th>minimum_nights</th>\n",
       "      <th>number_of_reviews</th>\n",
       "      <th>last_review</th>\n",
       "      <th>reviews_per_month</th>\n",
       "      <th>calculated_host_listings_count</th>\n",
       "      <th>availability_365</th>\n",
       "    </tr>\n",
       "  </thead>\n",
       "  <tbody>\n",
       "    <tr>\n",
       "      <th>0</th>\n",
       "      <td>3647</td>\n",
       "      <td>THE VILLAGE OF HARLEM....NEW YORK !</td>\n",
       "      <td>4632</td>\n",
       "      <td>Elisabeth</td>\n",
       "      <td>Manhattan</td>\n",
       "      <td>Harlem</td>\n",
       "      <td>40.80902</td>\n",
       "      <td>-73.94190</td>\n",
       "      <td>Private room</td>\n",
       "      <td>150</td>\n",
       "      <td>3</td>\n",
       "      <td>0</td>\n",
       "      <td>NaN</td>\n",
       "      <td>NaN</td>\n",
       "      <td>1</td>\n",
       "      <td>365</td>\n",
       "    </tr>\n",
       "    <tr>\n",
       "      <th>1</th>\n",
       "      <td>3831</td>\n",
       "      <td>Cozy Entire Floor of Brownstone</td>\n",
       "      <td>4869</td>\n",
       "      <td>LisaRoxanne</td>\n",
       "      <td>Brooklyn</td>\n",
       "      <td>Clinton Hill</td>\n",
       "      <td>40.68514</td>\n",
       "      <td>-73.95976</td>\n",
       "      <td>Entire home/apt</td>\n",
       "      <td>89</td>\n",
       "      <td>1</td>\n",
       "      <td>279</td>\n",
       "      <td>2019-08-29</td>\n",
       "      <td>4.62</td>\n",
       "      <td>1</td>\n",
       "      <td>192</td>\n",
       "    </tr>\n",
       "    <tr>\n",
       "      <th>2</th>\n",
       "      <td>5022</td>\n",
       "      <td>Entire Apt: Spacious Studio/Loft by central park</td>\n",
       "      <td>7192</td>\n",
       "      <td>Laura</td>\n",
       "      <td>Manhattan</td>\n",
       "      <td>East Harlem</td>\n",
       "      <td>40.79851</td>\n",
       "      <td>-73.94399</td>\n",
       "      <td>Entire home/apt</td>\n",
       "      <td>80</td>\n",
       "      <td>10</td>\n",
       "      <td>9</td>\n",
       "      <td>2018-11-19</td>\n",
       "      <td>0.10</td>\n",
       "      <td>1</td>\n",
       "      <td>0</td>\n",
       "    </tr>\n",
       "    <tr>\n",
       "      <th>3</th>\n",
       "      <td>5099</td>\n",
       "      <td>Large Cozy 1 BR Apartment In Midtown East</td>\n",
       "      <td>7322</td>\n",
       "      <td>Chris</td>\n",
       "      <td>Manhattan</td>\n",
       "      <td>Murray Hill</td>\n",
       "      <td>40.74767</td>\n",
       "      <td>-73.97500</td>\n",
       "      <td>Entire home/apt</td>\n",
       "      <td>200</td>\n",
       "      <td>3</td>\n",
       "      <td>75</td>\n",
       "      <td>2019-07-21</td>\n",
       "      <td>0.59</td>\n",
       "      <td>1</td>\n",
       "      <td>13</td>\n",
       "    </tr>\n",
       "    <tr>\n",
       "      <th>4</th>\n",
       "      <td>5121</td>\n",
       "      <td>BlissArtsSpace!</td>\n",
       "      <td>7356</td>\n",
       "      <td>Garon</td>\n",
       "      <td>Brooklyn</td>\n",
       "      <td>Bedford-Stuyvesant</td>\n",
       "      <td>40.68688</td>\n",
       "      <td>-73.95596</td>\n",
       "      <td>Private room</td>\n",
       "      <td>60</td>\n",
       "      <td>45</td>\n",
       "      <td>49</td>\n",
       "      <td>2017-10-05</td>\n",
       "      <td>0.39</td>\n",
       "      <td>1</td>\n",
       "      <td>0</td>\n",
       "    </tr>\n",
       "    <tr>\n",
       "      <th>...</th>\n",
       "      <td>...</td>\n",
       "      <td>...</td>\n",
       "      <td>...</td>\n",
       "      <td>...</td>\n",
       "      <td>...</td>\n",
       "      <td>...</td>\n",
       "      <td>...</td>\n",
       "      <td>...</td>\n",
       "      <td>...</td>\n",
       "      <td>...</td>\n",
       "      <td>...</td>\n",
       "      <td>...</td>\n",
       "      <td>...</td>\n",
       "      <td>...</td>\n",
       "      <td>...</td>\n",
       "      <td>...</td>\n",
       "    </tr>\n",
       "    <tr>\n",
       "      <th>48372</th>\n",
       "      <td>38564068</td>\n",
       "      <td>Top Floor Delight</td>\n",
       "      <td>207204450</td>\n",
       "      <td>Ade</td>\n",
       "      <td>Brooklyn</td>\n",
       "      <td>Cypress Hills</td>\n",
       "      <td>40.67618</td>\n",
       "      <td>-73.90764</td>\n",
       "      <td>Entire home/apt</td>\n",
       "      <td>199</td>\n",
       "      <td>2</td>\n",
       "      <td>0</td>\n",
       "      <td>NaN</td>\n",
       "      <td>NaN</td>\n",
       "      <td>4</td>\n",
       "      <td>42</td>\n",
       "    </tr>\n",
       "    <tr>\n",
       "      <th>48373</th>\n",
       "      <td>38564524</td>\n",
       "      <td>Central Park Elegance</td>\n",
       "      <td>1567562</td>\n",
       "      <td>Maggie</td>\n",
       "      <td>Manhattan</td>\n",
       "      <td>Upper East Side</td>\n",
       "      <td>40.77326</td>\n",
       "      <td>-73.96650</td>\n",
       "      <td>Entire home/apt</td>\n",
       "      <td>175</td>\n",
       "      <td>30</td>\n",
       "      <td>0</td>\n",
       "      <td>NaN</td>\n",
       "      <td>NaN</td>\n",
       "      <td>1</td>\n",
       "      <td>263</td>\n",
       "    </tr>\n",
       "    <tr>\n",
       "      <th>48374</th>\n",
       "      <td>38566777</td>\n",
       "      <td>Quiet room available</td>\n",
       "      <td>159902221</td>\n",
       "      <td>Nancy</td>\n",
       "      <td>Brooklyn</td>\n",
       "      <td>Bushwick</td>\n",
       "      <td>40.69907</td>\n",
       "      <td>-73.93043</td>\n",
       "      <td>Private room</td>\n",
       "      <td>35</td>\n",
       "      <td>30</td>\n",
       "      <td>0</td>\n",
       "      <td>NaN</td>\n",
       "      <td>NaN</td>\n",
       "      <td>1</td>\n",
       "      <td>66</td>\n",
       "    </tr>\n",
       "    <tr>\n",
       "      <th>48375</th>\n",
       "      <td>38567542</td>\n",
       "      <td>Spacious room in Brooklyn brownstone</td>\n",
       "      <td>68905617</td>\n",
       "      <td>Eric</td>\n",
       "      <td>Brooklyn</td>\n",
       "      <td>Crown Heights</td>\n",
       "      <td>40.66986</td>\n",
       "      <td>-73.93772</td>\n",
       "      <td>Private room</td>\n",
       "      <td>79</td>\n",
       "      <td>1</td>\n",
       "      <td>0</td>\n",
       "      <td>NaN</td>\n",
       "      <td>NaN</td>\n",
       "      <td>10</td>\n",
       "      <td>322</td>\n",
       "    </tr>\n",
       "    <tr>\n",
       "      <th>48376</th>\n",
       "      <td>38568081</td>\n",
       "      <td>Petrose home by JFK, Beach &amp;St John Hosp.</td>\n",
       "      <td>293596932</td>\n",
       "      <td>Ebangha</td>\n",
       "      <td>Queens</td>\n",
       "      <td>Far Rockaway</td>\n",
       "      <td>40.60315</td>\n",
       "      <td>-73.75722</td>\n",
       "      <td>Private room</td>\n",
       "      <td>45</td>\n",
       "      <td>3</td>\n",
       "      <td>0</td>\n",
       "      <td>NaN</td>\n",
       "      <td>NaN</td>\n",
       "      <td>1</td>\n",
       "      <td>173</td>\n",
       "    </tr>\n",
       "  </tbody>\n",
       "</table>\n",
       "<p>48377 rows × 16 columns</p>\n",
       "</div>"
      ],
      "text/plain": [
       "             id                                              name    host_id  \\\n",
       "0          3647               THE VILLAGE OF HARLEM....NEW YORK !       4632   \n",
       "1          3831                   Cozy Entire Floor of Brownstone       4869   \n",
       "2          5022  Entire Apt: Spacious Studio/Loft by central park       7192   \n",
       "3          5099         Large Cozy 1 BR Apartment In Midtown East       7322   \n",
       "4          5121                                   BlissArtsSpace!       7356   \n",
       "...         ...                                               ...        ...   \n",
       "48372  38564068                                 Top Floor Delight  207204450   \n",
       "48373  38564524                             Central Park Elegance    1567562   \n",
       "48374  38566777                              Quiet room available  159902221   \n",
       "48375  38567542              Spacious room in Brooklyn brownstone   68905617   \n",
       "48376  38568081         Petrose home by JFK, Beach &St John Hosp.  293596932   \n",
       "\n",
       "         host_name neighbourhood_group       neighbourhood  latitude  \\\n",
       "0        Elisabeth           Manhattan              Harlem  40.80902   \n",
       "1      LisaRoxanne            Brooklyn        Clinton Hill  40.68514   \n",
       "2            Laura           Manhattan         East Harlem  40.79851   \n",
       "3            Chris           Manhattan         Murray Hill  40.74767   \n",
       "4            Garon            Brooklyn  Bedford-Stuyvesant  40.68688   \n",
       "...            ...                 ...                 ...       ...   \n",
       "48372          Ade            Brooklyn       Cypress Hills  40.67618   \n",
       "48373       Maggie           Manhattan     Upper East Side  40.77326   \n",
       "48374        Nancy            Brooklyn            Bushwick  40.69907   \n",
       "48375         Eric            Brooklyn       Crown Heights  40.66986   \n",
       "48376      Ebangha              Queens        Far Rockaway  40.60315   \n",
       "\n",
       "       longitude        room_type  price  minimum_nights  number_of_reviews  \\\n",
       "0      -73.94190     Private room    150               3                  0   \n",
       "1      -73.95976  Entire home/apt     89               1                279   \n",
       "2      -73.94399  Entire home/apt     80              10                  9   \n",
       "3      -73.97500  Entire home/apt    200               3                 75   \n",
       "4      -73.95596     Private room     60              45                 49   \n",
       "...          ...              ...    ...             ...                ...   \n",
       "48372  -73.90764  Entire home/apt    199               2                  0   \n",
       "48373  -73.96650  Entire home/apt    175              30                  0   \n",
       "48374  -73.93043     Private room     35              30                  0   \n",
       "48375  -73.93772     Private room     79               1                  0   \n",
       "48376  -73.75722     Private room     45               3                  0   \n",
       "\n",
       "      last_review  reviews_per_month  calculated_host_listings_count  \\\n",
       "0             NaN                NaN                               1   \n",
       "1      2019-08-29               4.62                               1   \n",
       "2      2018-11-19               0.10                               1   \n",
       "3      2019-07-21               0.59                               1   \n",
       "4      2017-10-05               0.39                               1   \n",
       "...           ...                ...                             ...   \n",
       "48372         NaN                NaN                               4   \n",
       "48373         NaN                NaN                               1   \n",
       "48374         NaN                NaN                               1   \n",
       "48375         NaN                NaN                              10   \n",
       "48376         NaN                NaN                               1   \n",
       "\n",
       "       availability_365  \n",
       "0                   365  \n",
       "1                   192  \n",
       "2                     0  \n",
       "3                    13  \n",
       "4                     0  \n",
       "...                 ...  \n",
       "48372                42  \n",
       "48373               263  \n",
       "48374                66  \n",
       "48375               322  \n",
       "48376               173  \n",
       "\n",
       "[48377 rows x 16 columns]"
      ]
     },
     "execution_count": 112,
     "metadata": {},
     "output_type": "execute_result"
    }
   ],
   "source": [
    "origen"
   ]
  },
  {
   "cell_type": "code",
   "execution_count": 113,
   "metadata": {},
   "outputs": [
    {
     "data": {
      "text/plain": [
       "(48377, 16)"
      ]
     },
     "execution_count": 113,
     "metadata": {},
     "output_type": "execute_result"
    }
   ],
   "source": [
    "#Verificamos el número de datos con los que estaremos trabajando\n",
    "origen.shape"
   ]
  },
  {
   "cell_type": "code",
   "execution_count": 114,
   "metadata": {},
   "outputs": [
    {
     "data": {
      "text/plain": [
       "id                                   0\n",
       "name                                17\n",
       "host_id                              0\n",
       "host_name                           22\n",
       "neighbourhood_group                  0\n",
       "neighbourhood                        0\n",
       "latitude                             0\n",
       "longitude                            0\n",
       "room_type                            0\n",
       "price                                0\n",
       "minimum_nights                       0\n",
       "number_of_reviews                    0\n",
       "last_review                       9651\n",
       "reviews_per_month                 9651\n",
       "calculated_host_listings_count       0\n",
       "availability_365                     0\n",
       "dtype: int64"
      ]
     },
     "execution_count": 114,
     "metadata": {},
     "output_type": "execute_result"
    }
   ],
   "source": [
    "#Verificamos si existen datos vacíos\n",
    "origen.isnull().sum()"
   ]
  },
  {
   "cell_type": "code",
   "execution_count": 115,
   "metadata": {},
   "outputs": [
    {
     "data": {
      "text/plain": [
       "array(['THE VILLAGE OF HARLEM....NEW YORK !',\n",
       "       'Cozy Entire Floor of Brownstone',\n",
       "       'Entire Apt: Spacious Studio/Loft by central park', ...,\n",
       "       'Quiet room available', 'Spacious room in Brooklyn brownstone',\n",
       "       'Petrose home by JFK, Beach &St John Hosp.'], dtype=object)"
      ]
     },
     "execution_count": 115,
     "metadata": {},
     "output_type": "execute_result"
    }
   ],
   "source": [
    "origen[\"name\"].unique()"
   ]
  },
  {
   "cell_type": "code",
   "execution_count": 116,
   "metadata": {},
   "outputs": [
    {
     "data": {
      "text/plain": [
       "array(['Elisabeth', 'LisaRoxanne', 'Laura', ..., 'Gerda', 'Addis',\n",
       "       'Ebangha'], dtype=object)"
      ]
     },
     "execution_count": 116,
     "metadata": {},
     "output_type": "execute_result"
    }
   ],
   "source": [
    "origen[\"host_name\"].unique()"
   ]
  },
  {
   "cell_type": "code",
   "execution_count": 117,
   "metadata": {},
   "outputs": [
    {
     "data": {
      "text/plain": [
       "Home away from home                                   19\n",
       "Hillside Hotel                                        18\n",
       "New york Multi-unit building                          16\n",
       "Loft Suite @ The Box House Hotel                      11\n",
       "Brooklyn Apartment                                    10\n",
       "                                                      ..\n",
       "Large 1 bdrm with Modern finishes - Pelham Gardens     1\n",
       "Quiet and Clean Room in Downtown Manhattan             1\n",
       "Private bedroom in the heart of the UWS #1             1\n",
       "Tiny Apt                                               1\n",
       "McSimon's | Cozy Private Studio | Near NYC             1\n",
       "Name: name, Length: 47419, dtype: int64"
      ]
     },
     "execution_count": 117,
     "metadata": {},
     "output_type": "execute_result"
    }
   ],
   "source": [
    "#Edificios más visitados, filtrado por nombre  \n",
    "origen[\"name\"].value_counts()"
   ]
  },
  {
   "cell_type": "code",
   "execution_count": 118,
   "metadata": {},
   "outputs": [
    {
     "data": {
      "text/plain": [
       "Michael         415\n",
       "Sonder (NYC)    387\n",
       "David           384\n",
       "John            295\n",
       "Alex            257\n",
       "               ... \n",
       "Darragh           1\n",
       "Jahni             1\n",
       "5 Star Stays      1\n",
       "Kitti             1\n",
       "Said              1\n",
       "Name: host_name, Length: 11333, dtype: int64"
      ]
     },
     "execution_count": 118,
     "metadata": {},
     "output_type": "execute_result"
    }
   ],
   "source": [
    "#Dueños de las habitaciones más visitadas\n",
    "origen[\"host_name\"].value_counts()"
   ]
  },
  {
   "cell_type": "markdown",
   "metadata": {},
   "source": [
    "1. ¿Que tipo de alojamiento es el que mas hay (un cuarto, dept. completo, etc)?"
   ]
  },
  {
   "cell_type": "code",
   "execution_count": 119,
   "metadata": {},
   "outputs": [],
   "source": [
    "#Usamos la función value_counts() para obtener el conteo de los tipos de alojamiento, de mayorv a menor\n",
    "tipo=origen[\"room_type\"].value_counts()"
   ]
  },
  {
   "cell_type": "code",
   "execution_count": 120,
   "metadata": {},
   "outputs": [],
   "source": [
    "room_type = pd.DataFrame(tipo)"
   ]
  },
  {
   "cell_type": "code",
   "execution_count": 121,
   "metadata": {
    "scrolled": true
   },
   "outputs": [
    {
     "data": {
      "text/html": [
       "<div>\n",
       "<style scoped>\n",
       "    .dataframe tbody tr th:only-of-type {\n",
       "        vertical-align: middle;\n",
       "    }\n",
       "\n",
       "    .dataframe tbody tr th {\n",
       "        vertical-align: top;\n",
       "    }\n",
       "\n",
       "    .dataframe thead th {\n",
       "        text-align: right;\n",
       "    }\n",
       "</style>\n",
       "<table border=\"1\" class=\"dataframe\">\n",
       "  <thead>\n",
       "    <tr style=\"text-align: right;\">\n",
       "      <th></th>\n",
       "      <th>room_type</th>\n",
       "    </tr>\n",
       "  </thead>\n",
       "  <tbody>\n",
       "    <tr>\n",
       "      <th>Entire home/apt</th>\n",
       "      <td>24898</td>\n",
       "    </tr>\n",
       "    <tr>\n",
       "      <th>Private room</th>\n",
       "      <td>21852</td>\n",
       "    </tr>\n",
       "    <tr>\n",
       "      <th>Shared room</th>\n",
       "      <td>1192</td>\n",
       "    </tr>\n",
       "    <tr>\n",
       "      <th>Hotel room</th>\n",
       "      <td>435</td>\n",
       "    </tr>\n",
       "  </tbody>\n",
       "</table>\n",
       "</div>"
      ],
      "text/plain": [
       "                 room_type\n",
       "Entire home/apt      24898\n",
       "Private room         21852\n",
       "Shared room           1192\n",
       "Hotel room             435"
      ]
     },
     "execution_count": 121,
     "metadata": {},
     "output_type": "execute_result"
    }
   ],
   "source": [
    "room_type"
   ]
  },
  {
   "cell_type": "markdown",
   "metadata": {},
   "source": [
    "2. ¿Cuales son los neighbourhoods con mas alojamientos?"
   ]
  },
  {
   "cell_type": "code",
   "execution_count": 124,
   "metadata": {},
   "outputs": [
    {
     "data": {
      "text/plain": [
       "Williamsburg          3815\n",
       "Bedford-Stuyvesant    3785\n",
       "Harlem                2625\n",
       "Bushwick              2411\n",
       "Hell's Kitchen        1923\n",
       "                      ... \n",
       "Willowbrook              1\n",
       "Woodrow                  1\n",
       "Rossville                1\n",
       "Fort Wadsworth           1\n",
       "Gerritsen Beach          1\n",
       "Name: neighbourhood, Length: 224, dtype: int64"
      ]
     },
     "execution_count": 124,
     "metadata": {},
     "output_type": "execute_result"
    }
   ],
   "source": [
    "#Usamos la función value_counts() para obtener el conteo de los vecindarios con mayor alojamiento, de mayorv a menor\n",
    "origen[\"neighbourhood\"].value_counts()"
   ]
  },
  {
   "cell_type": "code",
   "execution_count": null,
   "metadata": {},
   "outputs": [],
   "source": []
  },
  {
   "cell_type": "code",
   "execution_count": 91,
   "metadata": {},
   "outputs": [],
   "source": [
    "vecindario=origen[\"neighbourhood\"].value_counts()"
   ]
  },
  {
   "cell_type": "code",
   "execution_count": 92,
   "metadata": {},
   "outputs": [
    {
     "data": {
      "text/plain": [
       "Williamsburg          3815\n",
       "Bedford-Stuyvesant    3785\n",
       "Harlem                2625\n",
       "Bushwick              2411\n",
       "Hell's Kitchen        1923\n",
       "Name: neighbourhood, dtype: int64"
      ]
     },
     "execution_count": 92,
     "metadata": {},
     "output_type": "execute_result"
    }
   ],
   "source": [
    "vecindario.head()"
   ]
  },
  {
   "cell_type": "markdown",
   "metadata": {},
   "source": [
    "3. Mostrar los top 5 alojamientos, mas ocupados (tip la columna availability_365 muestra cuantos dias esta disponible)"
   ]
  },
  {
   "cell_type": "code",
   "execution_count": 93,
   "metadata": {},
   "outputs": [
    {
     "data": {
      "text/plain": [
       "0      18431\n",
       "365      774\n",
       "255      390\n",
       "1        386\n",
       "2        311\n",
       "       ...  \n",
       "203       18\n",
       "218       17\n",
       "185       16\n",
       "181       14\n",
       "200       13\n",
       "Name: availability_365, Length: 366, dtype: int64"
      ]
     },
     "execution_count": 93,
     "metadata": {},
     "output_type": "execute_result"
    }
   ],
   "source": [
    "#Listamos el número de días que están disponibles los alojamientos, de mayor a menor número de veces que aparecen\n",
    "origen[\"availability_365\"].value_counts()"
   ]
  },
  {
   "cell_type": "code",
   "execution_count": 94,
   "metadata": {},
   "outputs": [],
   "source": [
    "#Filtramos usando la disponibilidad de cero (siempre ocupados)\n",
    "alojamiento=np.where(origen[\"availability_365\"]==0)"
   ]
  },
  {
   "cell_type": "code",
   "execution_count": 95,
   "metadata": {},
   "outputs": [
    {
     "data": {
      "text/html": [
       "<div>\n",
       "<style scoped>\n",
       "    .dataframe tbody tr th:only-of-type {\n",
       "        vertical-align: middle;\n",
       "    }\n",
       "\n",
       "    .dataframe tbody tr th {\n",
       "        vertical-align: top;\n",
       "    }\n",
       "\n",
       "    .dataframe thead th {\n",
       "        text-align: right;\n",
       "    }\n",
       "</style>\n",
       "<table border=\"1\" class=\"dataframe\">\n",
       "  <thead>\n",
       "    <tr style=\"text-align: right;\">\n",
       "      <th></th>\n",
       "      <th>id</th>\n",
       "      <th>name</th>\n",
       "      <th>host_id</th>\n",
       "      <th>host_name</th>\n",
       "      <th>neighbourhood_group</th>\n",
       "      <th>neighbourhood</th>\n",
       "      <th>latitude</th>\n",
       "      <th>longitude</th>\n",
       "      <th>room_type</th>\n",
       "      <th>price</th>\n",
       "      <th>minimum_nights</th>\n",
       "      <th>number_of_reviews</th>\n",
       "      <th>last_review</th>\n",
       "      <th>reviews_per_month</th>\n",
       "      <th>calculated_host_listings_count</th>\n",
       "      <th>availability_365</th>\n",
       "    </tr>\n",
       "  </thead>\n",
       "  <tbody>\n",
       "    <tr>\n",
       "      <th>2</th>\n",
       "      <td>5022</td>\n",
       "      <td>Entire Apt: Spacious Studio/Loft by central park</td>\n",
       "      <td>7192</td>\n",
       "      <td>Laura</td>\n",
       "      <td>Manhattan</td>\n",
       "      <td>East Harlem</td>\n",
       "      <td>40.79851</td>\n",
       "      <td>-73.94399</td>\n",
       "      <td>Entire home/apt</td>\n",
       "      <td>80</td>\n",
       "      <td>10</td>\n",
       "      <td>9</td>\n",
       "      <td>2018-11-19</td>\n",
       "      <td>0.10</td>\n",
       "      <td>1</td>\n",
       "      <td>0</td>\n",
       "    </tr>\n",
       "    <tr>\n",
       "      <th>4</th>\n",
       "      <td>5121</td>\n",
       "      <td>BlissArtsSpace!</td>\n",
       "      <td>7356</td>\n",
       "      <td>Garon</td>\n",
       "      <td>Brooklyn</td>\n",
       "      <td>Bedford-Stuyvesant</td>\n",
       "      <td>40.68688</td>\n",
       "      <td>-73.95596</td>\n",
       "      <td>Private room</td>\n",
       "      <td>60</td>\n",
       "      <td>45</td>\n",
       "      <td>49</td>\n",
       "      <td>2017-10-05</td>\n",
       "      <td>0.39</td>\n",
       "      <td>1</td>\n",
       "      <td>0</td>\n",
       "    </tr>\n",
       "    <tr>\n",
       "      <th>6</th>\n",
       "      <td>5203</td>\n",
       "      <td>Cozy Clean Guest Room - Family Apt</td>\n",
       "      <td>7490</td>\n",
       "      <td>MaryEllen</td>\n",
       "      <td>Manhattan</td>\n",
       "      <td>Upper West Side</td>\n",
       "      <td>40.80178</td>\n",
       "      <td>-73.96723</td>\n",
       "      <td>Private room</td>\n",
       "      <td>79</td>\n",
       "      <td>2</td>\n",
       "      <td>118</td>\n",
       "      <td>2017-07-21</td>\n",
       "      <td>0.97</td>\n",
       "      <td>1</td>\n",
       "      <td>0</td>\n",
       "    </tr>\n",
       "    <tr>\n",
       "      <th>8</th>\n",
       "      <td>5238</td>\n",
       "      <td>Cute &amp; Cozy Lower East Side 1 bdrm</td>\n",
       "      <td>7549</td>\n",
       "      <td>Ben</td>\n",
       "      <td>Manhattan</td>\n",
       "      <td>Chinatown</td>\n",
       "      <td>40.71344</td>\n",
       "      <td>-73.99037</td>\n",
       "      <td>Entire home/apt</td>\n",
       "      <td>150</td>\n",
       "      <td>1</td>\n",
       "      <td>161</td>\n",
       "      <td>2019-07-29</td>\n",
       "      <td>1.32</td>\n",
       "      <td>4</td>\n",
       "      <td>0</td>\n",
       "    </tr>\n",
       "    <tr>\n",
       "      <th>19</th>\n",
       "      <td>7801</td>\n",
       "      <td>Sweet and Spacious Brooklyn Loft</td>\n",
       "      <td>21207</td>\n",
       "      <td>Chaya</td>\n",
       "      <td>Brooklyn</td>\n",
       "      <td>Williamsburg</td>\n",
       "      <td>40.71842</td>\n",
       "      <td>-73.95718</td>\n",
       "      <td>Entire home/apt</td>\n",
       "      <td>299</td>\n",
       "      <td>3</td>\n",
       "      <td>9</td>\n",
       "      <td>2011-12-28</td>\n",
       "      <td>0.07</td>\n",
       "      <td>1</td>\n",
       "      <td>0</td>\n",
       "    </tr>\n",
       "  </tbody>\n",
       "</table>\n",
       "</div>"
      ],
      "text/plain": [
       "      id                                              name  host_id  \\\n",
       "2   5022  Entire Apt: Spacious Studio/Loft by central park     7192   \n",
       "4   5121                                   BlissArtsSpace!     7356   \n",
       "6   5203                Cozy Clean Guest Room - Family Apt     7490   \n",
       "8   5238                Cute & Cozy Lower East Side 1 bdrm     7549   \n",
       "19  7801                  Sweet and Spacious Brooklyn Loft    21207   \n",
       "\n",
       "    host_name neighbourhood_group       neighbourhood  latitude  longitude  \\\n",
       "2       Laura           Manhattan         East Harlem  40.79851  -73.94399   \n",
       "4       Garon            Brooklyn  Bedford-Stuyvesant  40.68688  -73.95596   \n",
       "6   MaryEllen           Manhattan     Upper West Side  40.80178  -73.96723   \n",
       "8         Ben           Manhattan           Chinatown  40.71344  -73.99037   \n",
       "19      Chaya            Brooklyn        Williamsburg  40.71842  -73.95718   \n",
       "\n",
       "          room_type  price  minimum_nights  number_of_reviews last_review  \\\n",
       "2   Entire home/apt     80              10                  9  2018-11-19   \n",
       "4      Private room     60              45                 49  2017-10-05   \n",
       "6      Private room     79               2                118  2017-07-21   \n",
       "8   Entire home/apt    150               1                161  2019-07-29   \n",
       "19  Entire home/apt    299               3                  9  2011-12-28   \n",
       "\n",
       "    reviews_per_month  calculated_host_listings_count  availability_365  \n",
       "2                0.10                               1                 0  \n",
       "4                0.39                               1                 0  \n",
       "6                0.97                               1                 0  \n",
       "8                1.32                               4                 0  \n",
       "19               0.07                               1                 0  "
      ]
     },
     "execution_count": 95,
     "metadata": {},
     "output_type": "execute_result"
    }
   ],
   "source": [
    "#Desplegamos los 5 primeros lugares obtenidos del filtro anterior\n",
    "origen.loc[alojamiento].head()"
   ]
  },
  {
   "cell_type": "markdown",
   "metadata": {},
   "source": [
    "4. Mostrar el mismo dato del punto 3 pero filtrado por neighbourhood"
   ]
  },
  {
   "cell_type": "code",
   "execution_count": 25,
   "metadata": {},
   "outputs": [
    {
     "data": {
      "text/plain": [
       "Williamsburg          3815\n",
       "Bedford-Stuyvesant    3785\n",
       "Harlem                2625\n",
       "Bushwick              2411\n",
       "Hell's Kitchen        1923\n",
       "                      ... \n",
       "Willowbrook              1\n",
       "Woodrow                  1\n",
       "Rossville                1\n",
       "Fort Wadsworth           1\n",
       "Gerritsen Beach          1\n",
       "Name: neighbourhood, Length: 224, dtype: int64"
      ]
     },
     "execution_count": 25,
     "metadata": {},
     "output_type": "execute_result"
    }
   ],
   "source": [
    "vecindario"
   ]
  },
  {
   "cell_type": "code",
   "execution_count": 29,
   "metadata": {},
   "outputs": [],
   "source": [
    "vec = pd.DataFrame(vecindario)"
   ]
  },
  {
   "cell_type": "code",
   "execution_count": 32,
   "metadata": {},
   "outputs": [
    {
     "data": {
      "text/html": [
       "<div>\n",
       "<style scoped>\n",
       "    .dataframe tbody tr th:only-of-type {\n",
       "        vertical-align: middle;\n",
       "    }\n",
       "\n",
       "    .dataframe tbody tr th {\n",
       "        vertical-align: top;\n",
       "    }\n",
       "\n",
       "    .dataframe thead th {\n",
       "        text-align: right;\n",
       "    }\n",
       "</style>\n",
       "<table border=\"1\" class=\"dataframe\">\n",
       "  <thead>\n",
       "    <tr style=\"text-align: right;\">\n",
       "      <th></th>\n",
       "      <th>neighbourhood</th>\n",
       "    </tr>\n",
       "  </thead>\n",
       "  <tbody>\n",
       "    <tr>\n",
       "      <th>Williamsburg</th>\n",
       "      <td>3815</td>\n",
       "    </tr>\n",
       "    <tr>\n",
       "      <th>Bedford-Stuyvesant</th>\n",
       "      <td>3785</td>\n",
       "    </tr>\n",
       "    <tr>\n",
       "      <th>Harlem</th>\n",
       "      <td>2625</td>\n",
       "    </tr>\n",
       "    <tr>\n",
       "      <th>Bushwick</th>\n",
       "      <td>2411</td>\n",
       "    </tr>\n",
       "    <tr>\n",
       "      <th>Hell's Kitchen</th>\n",
       "      <td>1923</td>\n",
       "    </tr>\n",
       "  </tbody>\n",
       "</table>\n",
       "</div>"
      ],
      "text/plain": [
       "                    neighbourhood\n",
       "Williamsburg                 3815\n",
       "Bedford-Stuyvesant           3785\n",
       "Harlem                       2625\n",
       "Bushwick                     2411\n",
       "Hell's Kitchen               1923"
      ]
     },
     "execution_count": 32,
     "metadata": {},
     "output_type": "execute_result"
    }
   ],
   "source": [
    "vec.head()"
   ]
  },
  {
   "cell_type": "markdown",
   "metadata": {},
   "source": [
    "5. Mostrar la distribución de los precios de los alojamientos."
   ]
  },
  {
   "cell_type": "code",
   "execution_count": 34,
   "metadata": {},
   "outputs": [
    {
     "data": {
      "text/plain": [
       "<AxesSubplot:xlabel='room_type', ylabel='price'>"
      ]
     },
     "execution_count": 34,
     "metadata": {},
     "output_type": "execute_result"
    },
    {
     "data": {
      "image/png": "[encoded data removed]",
      "text/plain": [
       "<Figure size 432x288 with 1 Axes>"
      ]
     },
     "metadata": {
      "needs_background": "light"
     },
     "output_type": "display_data"
    }
   ],
   "source": [
    "sns.histplot(data=origen, x=origen[\"room_type\"],y=origen[\"price\"],bins=10,binwidth=10)"
   ]
  },
  {
   "cell_type": "code",
   "execution_count": null,
   "metadata": {},
   "outputs": [],
   "source": []
  },
  {
   "cell_type": "code",
   "execution_count": 59,
   "metadata": {},
   "outputs": [
    {
     "data": {
      "text/plain": [
       "<matplotlib.axes._subplots.AxesSubplot at 0x199f2c6f970>"
      ]
     },
     "execution_count": 59,
     "metadata": {},
     "output_type": "execute_result"
    },
    {
     "data": {
      "image/png": "[encoded data removed]",
      "text/plain": [
       "<Figure size 432x288 with 1 Axes>"
      ]
     },
     "metadata": {
      "needs_background": "light"
     },
     "output_type": "display_data"
    }
   ],
   "source": [
    "sns.barplot(x=\"room_type\", y=\"price\", data=origen)"
   ]
  },
  {
   "cell_type": "code",
   "execution_count": null,
   "metadata": {},
   "outputs": [],
   "source": []
  },
  {
   "cell_type": "markdown",
   "metadata": {},
   "source": [
    "6. ¿Donde se encuentran los alojamientos mas caros / baratos?"
   ]
  },
  {
   "cell_type": "code",
   "execution_count": 38,
   "metadata": {},
   "outputs": [
    {
     "data": {
      "text/plain": [
       "array(['Manhattan', 'Brooklyn', 'Queens', 'Staten Island', 'Bronx'],\n",
       "      dtype=object)"
      ]
     },
     "execution_count": 38,
     "metadata": {},
     "output_type": "execute_result"
    }
   ],
   "source": [
    "origen[\"neighbourhood_group\"].unique()"
   ]
  },
  {
   "cell_type": "code",
   "execution_count": 37,
   "metadata": {},
   "outputs": [
    {
     "data": {
      "text/plain": [
       "<AxesSubplot:xlabel='neighbourhood_group', ylabel='price'>"
      ]
     },
     "execution_count": 37,
     "metadata": {},
     "output_type": "execute_result"
    },
    {
     "data": {
      "image/png": "[encoded data removed]",
      "text/plain": [
       "<Figure size 432x288 with 1 Axes>"
      ]
     },
     "metadata": {
      "needs_background": "light"
     },
     "output_type": "display_data"
    }
   ],
   "source": [
    "sns.histplot(data=origen,x=origen[\"neighbourhood_group\"],y=origen[\"price\"])"
   ]
  },
  {
   "cell_type": "code",
   "execution_count": 60,
   "metadata": {},
   "outputs": [
    {
     "data": {
      "text/plain": [
       "<matplotlib.axes._subplots.AxesSubplot at 0x199f4d65250>"
      ]
     },
     "execution_count": 60,
     "metadata": {},
     "output_type": "execute_result"
    },
    {
     "data": {
      "image/png": "[encoded data removed]",
      "text/plain": [
       "<Figure size 432x288 with 1 Axes>"
      ]
     },
     "metadata": {
      "needs_background": "light"
     },
     "output_type": "display_data"
    }
   ],
   "source": [
    "sns.barplot(x=\"neighbourhood_group\", y=\"price\", data=origen)"
   ]
  },
  {
   "cell_type": "markdown",
   "metadata": {},
   "source": [
    "7. Mostrar los alojamientos en un mapa, filtrados por neighbourhood y por precio ( usar un slider )"
   ]
  },
  {
   "cell_type": "code",
   "execution_count": null,
   "metadata": {},
   "outputs": [],
   "source": []
  },
  {
   "cell_type": "markdown",
   "metadata": {},
   "source": [
    "8. ¿El precio de renta afecta cuantas veces se renta un lugar?"
   ]
  },
  {
   "cell_type": "code",
   "execution_count": 125,
   "metadata": {
    "scrolled": false
   },
   "outputs": [
    {
     "data": {
      "text/html": [
       "<div>\n",
       "<style scoped>\n",
       "    .dataframe tbody tr th:only-of-type {\n",
       "        vertical-align: middle;\n",
       "    }\n",
       "\n",
       "    .dataframe tbody tr th {\n",
       "        vertical-align: top;\n",
       "    }\n",
       "\n",
       "    .dataframe thead th {\n",
       "        text-align: right;\n",
       "    }\n",
       "</style>\n",
       "<table border=\"1\" class=\"dataframe\">\n",
       "  <thead>\n",
       "    <tr style=\"text-align: right;\">\n",
       "      <th>neighbourhood</th>\n",
       "      <th>Allerton</th>\n",
       "      <th>Arden Heights</th>\n",
       "      <th>Arrochar</th>\n",
       "      <th>Arverne</th>\n",
       "      <th>Astoria</th>\n",
       "      <th>Bath Beach</th>\n",
       "      <th>Battery Park City</th>\n",
       "      <th>Bay Ridge</th>\n",
       "      <th>Bay Terrace</th>\n",
       "      <th>Bay Terrace, Staten Island</th>\n",
       "      <th>...</th>\n",
       "      <th>Westerleigh</th>\n",
       "      <th>Whitestone</th>\n",
       "      <th>Williamsbridge</th>\n",
       "      <th>Williamsburg</th>\n",
       "      <th>Willowbrook</th>\n",
       "      <th>Windsor Terrace</th>\n",
       "      <th>Woodhaven</th>\n",
       "      <th>Woodlawn</th>\n",
       "      <th>Woodrow</th>\n",
       "      <th>Woodside</th>\n",
       "    </tr>\n",
       "    <tr>\n",
       "      <th>availability_365</th>\n",
       "      <th></th>\n",
       "      <th></th>\n",
       "      <th></th>\n",
       "      <th></th>\n",
       "      <th></th>\n",
       "      <th></th>\n",
       "      <th></th>\n",
       "      <th></th>\n",
       "      <th></th>\n",
       "      <th></th>\n",
       "      <th></th>\n",
       "      <th></th>\n",
       "      <th></th>\n",
       "      <th></th>\n",
       "      <th></th>\n",
       "      <th></th>\n",
       "      <th></th>\n",
       "      <th></th>\n",
       "      <th></th>\n",
       "      <th></th>\n",
       "      <th></th>\n",
       "    </tr>\n",
       "  </thead>\n",
       "  <tbody>\n",
       "    <tr>\n",
       "      <th>0</th>\n",
       "      <td>68.714286</td>\n",
       "      <td>41.0</td>\n",
       "      <td>NaN</td>\n",
       "      <td>106.666667</td>\n",
       "      <td>125.692722</td>\n",
       "      <td>107.25</td>\n",
       "      <td>212.842105</td>\n",
       "      <td>81.866667</td>\n",
       "      <td>178.5</td>\n",
       "      <td>102.5</td>\n",
       "      <td>...</td>\n",
       "      <td>40.0</td>\n",
       "      <td>40.0</td>\n",
       "      <td>67.666667</td>\n",
       "      <td>126.148621</td>\n",
       "      <td>NaN</td>\n",
       "      <td>137.986486</td>\n",
       "      <td>85.214286</td>\n",
       "      <td>50.0</td>\n",
       "      <td>700.0</td>\n",
       "      <td>77.73913</td>\n",
       "    </tr>\n",
       "    <tr>\n",
       "      <th>1</th>\n",
       "      <td>NaN</td>\n",
       "      <td>NaN</td>\n",
       "      <td>NaN</td>\n",
       "      <td>NaN</td>\n",
       "      <td>88.250000</td>\n",
       "      <td>NaN</td>\n",
       "      <td>NaN</td>\n",
       "      <td>37.000000</td>\n",
       "      <td>NaN</td>\n",
       "      <td>NaN</td>\n",
       "      <td>...</td>\n",
       "      <td>NaN</td>\n",
       "      <td>NaN</td>\n",
       "      <td>NaN</td>\n",
       "      <td>151.000000</td>\n",
       "      <td>NaN</td>\n",
       "      <td>NaN</td>\n",
       "      <td>NaN</td>\n",
       "      <td>NaN</td>\n",
       "      <td>NaN</td>\n",
       "      <td>47.75000</td>\n",
       "    </tr>\n",
       "    <tr>\n",
       "      <th>2</th>\n",
       "      <td>NaN</td>\n",
       "      <td>NaN</td>\n",
       "      <td>NaN</td>\n",
       "      <td>NaN</td>\n",
       "      <td>87.500000</td>\n",
       "      <td>NaN</td>\n",
       "      <td>NaN</td>\n",
       "      <td>NaN</td>\n",
       "      <td>NaN</td>\n",
       "      <td>NaN</td>\n",
       "      <td>...</td>\n",
       "      <td>NaN</td>\n",
       "      <td>NaN</td>\n",
       "      <td>NaN</td>\n",
       "      <td>120.655172</td>\n",
       "      <td>NaN</td>\n",
       "      <td>NaN</td>\n",
       "      <td>NaN</td>\n",
       "      <td>NaN</td>\n",
       "      <td>NaN</td>\n",
       "      <td>49.00000</td>\n",
       "    </tr>\n",
       "    <tr>\n",
       "      <th>3</th>\n",
       "      <td>NaN</td>\n",
       "      <td>NaN</td>\n",
       "      <td>NaN</td>\n",
       "      <td>NaN</td>\n",
       "      <td>32.000000</td>\n",
       "      <td>NaN</td>\n",
       "      <td>195.000000</td>\n",
       "      <td>NaN</td>\n",
       "      <td>NaN</td>\n",
       "      <td>NaN</td>\n",
       "      <td>...</td>\n",
       "      <td>NaN</td>\n",
       "      <td>NaN</td>\n",
       "      <td>NaN</td>\n",
       "      <td>126.111111</td>\n",
       "      <td>NaN</td>\n",
       "      <td>157.666667</td>\n",
       "      <td>NaN</td>\n",
       "      <td>NaN</td>\n",
       "      <td>NaN</td>\n",
       "      <td>126.00000</td>\n",
       "    </tr>\n",
       "    <tr>\n",
       "      <th>4</th>\n",
       "      <td>NaN</td>\n",
       "      <td>NaN</td>\n",
       "      <td>NaN</td>\n",
       "      <td>NaN</td>\n",
       "      <td>95.000000</td>\n",
       "      <td>NaN</td>\n",
       "      <td>NaN</td>\n",
       "      <td>NaN</td>\n",
       "      <td>NaN</td>\n",
       "      <td>NaN</td>\n",
       "      <td>...</td>\n",
       "      <td>NaN</td>\n",
       "      <td>NaN</td>\n",
       "      <td>NaN</td>\n",
       "      <td>138.346154</td>\n",
       "      <td>NaN</td>\n",
       "      <td>175.000000</td>\n",
       "      <td>NaN</td>\n",
       "      <td>NaN</td>\n",
       "      <td>NaN</td>\n",
       "      <td>NaN</td>\n",
       "    </tr>\n",
       "    <tr>\n",
       "      <th>...</th>\n",
       "      <td>...</td>\n",
       "      <td>...</td>\n",
       "      <td>...</td>\n",
       "      <td>...</td>\n",
       "      <td>...</td>\n",
       "      <td>...</td>\n",
       "      <td>...</td>\n",
       "      <td>...</td>\n",
       "      <td>...</td>\n",
       "      <td>...</td>\n",
       "      <td>...</td>\n",
       "      <td>...</td>\n",
       "      <td>...</td>\n",
       "      <td>...</td>\n",
       "      <td>...</td>\n",
       "      <td>...</td>\n",
       "      <td>...</td>\n",
       "      <td>...</td>\n",
       "      <td>...</td>\n",
       "      <td>...</td>\n",
       "      <td>...</td>\n",
       "    </tr>\n",
       "    <tr>\n",
       "      <th>361</th>\n",
       "      <td>NaN</td>\n",
       "      <td>NaN</td>\n",
       "      <td>NaN</td>\n",
       "      <td>NaN</td>\n",
       "      <td>40.000000</td>\n",
       "      <td>NaN</td>\n",
       "      <td>NaN</td>\n",
       "      <td>NaN</td>\n",
       "      <td>NaN</td>\n",
       "      <td>NaN</td>\n",
       "      <td>...</td>\n",
       "      <td>NaN</td>\n",
       "      <td>NaN</td>\n",
       "      <td>NaN</td>\n",
       "      <td>NaN</td>\n",
       "      <td>NaN</td>\n",
       "      <td>NaN</td>\n",
       "      <td>99.000000</td>\n",
       "      <td>NaN</td>\n",
       "      <td>NaN</td>\n",
       "      <td>NaN</td>\n",
       "    </tr>\n",
       "    <tr>\n",
       "      <th>362</th>\n",
       "      <td>NaN</td>\n",
       "      <td>NaN</td>\n",
       "      <td>65.0</td>\n",
       "      <td>230.000000</td>\n",
       "      <td>100.600000</td>\n",
       "      <td>NaN</td>\n",
       "      <td>225.000000</td>\n",
       "      <td>NaN</td>\n",
       "      <td>NaN</td>\n",
       "      <td>NaN</td>\n",
       "      <td>...</td>\n",
       "      <td>NaN</td>\n",
       "      <td>NaN</td>\n",
       "      <td>70.000000</td>\n",
       "      <td>375.000000</td>\n",
       "      <td>NaN</td>\n",
       "      <td>NaN</td>\n",
       "      <td>69.000000</td>\n",
       "      <td>NaN</td>\n",
       "      <td>NaN</td>\n",
       "      <td>78.00000</td>\n",
       "    </tr>\n",
       "    <tr>\n",
       "      <th>363</th>\n",
       "      <td>60.000000</td>\n",
       "      <td>NaN</td>\n",
       "      <td>NaN</td>\n",
       "      <td>275.000000</td>\n",
       "      <td>1350.000000</td>\n",
       "      <td>NaN</td>\n",
       "      <td>350.000000</td>\n",
       "      <td>80.000000</td>\n",
       "      <td>NaN</td>\n",
       "      <td>NaN</td>\n",
       "      <td>...</td>\n",
       "      <td>NaN</td>\n",
       "      <td>NaN</td>\n",
       "      <td>500.000000</td>\n",
       "      <td>238.333333</td>\n",
       "      <td>NaN</td>\n",
       "      <td>180.000000</td>\n",
       "      <td>69.000000</td>\n",
       "      <td>NaN</td>\n",
       "      <td>NaN</td>\n",
       "      <td>105.00000</td>\n",
       "    </tr>\n",
       "    <tr>\n",
       "      <th>364</th>\n",
       "      <td>85.000000</td>\n",
       "      <td>NaN</td>\n",
       "      <td>NaN</td>\n",
       "      <td>760.000000</td>\n",
       "      <td>147.500000</td>\n",
       "      <td>NaN</td>\n",
       "      <td>3966.500000</td>\n",
       "      <td>79.000000</td>\n",
       "      <td>NaN</td>\n",
       "      <td>NaN</td>\n",
       "      <td>...</td>\n",
       "      <td>NaN</td>\n",
       "      <td>NaN</td>\n",
       "      <td>NaN</td>\n",
       "      <td>325.000000</td>\n",
       "      <td>NaN</td>\n",
       "      <td>NaN</td>\n",
       "      <td>NaN</td>\n",
       "      <td>NaN</td>\n",
       "      <td>NaN</td>\n",
       "      <td>75.00000</td>\n",
       "    </tr>\n",
       "    <tr>\n",
       "      <th>365</th>\n",
       "      <td>80.000000</td>\n",
       "      <td>NaN</td>\n",
       "      <td>NaN</td>\n",
       "      <td>603.500000</td>\n",
       "      <td>407.000000</td>\n",
       "      <td>NaN</td>\n",
       "      <td>3750.000000</td>\n",
       "      <td>235.200000</td>\n",
       "      <td>NaN</td>\n",
       "      <td>NaN</td>\n",
       "      <td>...</td>\n",
       "      <td>NaN</td>\n",
       "      <td>85.0</td>\n",
       "      <td>55.666667</td>\n",
       "      <td>341.200000</td>\n",
       "      <td>NaN</td>\n",
       "      <td>NaN</td>\n",
       "      <td>NaN</td>\n",
       "      <td>NaN</td>\n",
       "      <td>NaN</td>\n",
       "      <td>318.00000</td>\n",
       "    </tr>\n",
       "  </tbody>\n",
       "</table>\n",
       "<p>366 rows × 224 columns</p>\n",
       "</div>"
      ],
      "text/plain": [
       "neighbourhood      Allerton  Arden Heights  Arrochar     Arverne      Astoria  \\\n",
       "availability_365                                                                \n",
       "0                 68.714286           41.0       NaN  106.666667   125.692722   \n",
       "1                       NaN            NaN       NaN         NaN    88.250000   \n",
       "2                       NaN            NaN       NaN         NaN    87.500000   \n",
       "3                       NaN            NaN       NaN         NaN    32.000000   \n",
       "4                       NaN            NaN       NaN         NaN    95.000000   \n",
       "...                     ...            ...       ...         ...          ...   \n",
       "361                     NaN            NaN       NaN         NaN    40.000000   \n",
       "362                     NaN            NaN      65.0  230.000000   100.600000   \n",
       "363               60.000000            NaN       NaN  275.000000  1350.000000   \n",
       "364               85.000000            NaN       NaN  760.000000   147.500000   \n",
       "365               80.000000            NaN       NaN  603.500000   407.000000   \n",
       "\n",
       "neighbourhood     Bath Beach  Battery Park City   Bay Ridge  Bay Terrace  \\\n",
       "availability_365                                                           \n",
       "0                     107.25         212.842105   81.866667        178.5   \n",
       "1                        NaN                NaN   37.000000          NaN   \n",
       "2                        NaN                NaN         NaN          NaN   \n",
       "3                        NaN         195.000000         NaN          NaN   \n",
       "4                        NaN                NaN         NaN          NaN   \n",
       "...                      ...                ...         ...          ...   \n",
       "361                      NaN                NaN         NaN          NaN   \n",
       "362                      NaN         225.000000         NaN          NaN   \n",
       "363                      NaN         350.000000   80.000000          NaN   \n",
       "364                      NaN        3966.500000   79.000000          NaN   \n",
       "365                      NaN        3750.000000  235.200000          NaN   \n",
       "\n",
       "neighbourhood     Bay Terrace, Staten Island  ...  Westerleigh  Whitestone  \\\n",
       "availability_365                              ...                            \n",
       "0                                      102.5  ...         40.0        40.0   \n",
       "1                                        NaN  ...          NaN         NaN   \n",
       "2                                        NaN  ...          NaN         NaN   \n",
       "3                                        NaN  ...          NaN         NaN   \n",
       "4                                        NaN  ...          NaN         NaN   \n",
       "...                                      ...  ...          ...         ...   \n",
       "361                                      NaN  ...          NaN         NaN   \n",
       "362                                      NaN  ...          NaN         NaN   \n",
       "363                                      NaN  ...          NaN         NaN   \n",
       "364                                      NaN  ...          NaN         NaN   \n",
       "365                                      NaN  ...          NaN        85.0   \n",
       "\n",
       "neighbourhood     Williamsbridge  Williamsburg  Willowbrook  Windsor Terrace  \\\n",
       "availability_365                                                               \n",
       "0                      67.666667    126.148621          NaN       137.986486   \n",
       "1                            NaN    151.000000          NaN              NaN   \n",
       "2                            NaN    120.655172          NaN              NaN   \n",
       "3                            NaN    126.111111          NaN       157.666667   \n",
       "4                            NaN    138.346154          NaN       175.000000   \n",
       "...                          ...           ...          ...              ...   \n",
       "361                          NaN           NaN          NaN              NaN   \n",
       "362                    70.000000    375.000000          NaN              NaN   \n",
       "363                   500.000000    238.333333          NaN       180.000000   \n",
       "364                          NaN    325.000000          NaN              NaN   \n",
       "365                    55.666667    341.200000          NaN              NaN   \n",
       "\n",
       "neighbourhood     Woodhaven  Woodlawn  Woodrow   Woodside  \n",
       "availability_365                                           \n",
       "0                 85.214286      50.0    700.0   77.73913  \n",
       "1                       NaN       NaN      NaN   47.75000  \n",
       "2                       NaN       NaN      NaN   49.00000  \n",
       "3                       NaN       NaN      NaN  126.00000  \n",
       "4                       NaN       NaN      NaN        NaN  \n",
       "...                     ...       ...      ...        ...  \n",
       "361               99.000000       NaN      NaN        NaN  \n",
       "362               69.000000       NaN      NaN   78.00000  \n",
       "363               69.000000       NaN      NaN  105.00000  \n",
       "364                     NaN       NaN      NaN   75.00000  \n",
       "365                     NaN       NaN      NaN  318.00000  \n",
       "\n",
       "[366 rows x 224 columns]"
      ]
     },
     "execution_count": 125,
     "metadata": {},
     "output_type": "execute_result"
    }
   ],
   "source": [
    "origen.pivot_table(values='price', index= 'availability_365', columns='neighbourhood')"
   ]
  },
  {
   "cell_type": "code",
   "execution_count": 131,
   "metadata": {},
   "outputs": [
    {
     "data": {
      "text/plain": [
       "<matplotlib.axes._subplots.AxesSubplot at 0x199806571c0>"
      ]
     },
     "execution_count": 131,
     "metadata": {},
     "output_type": "execute_result"
    },
    {
     "data": {
      "image/png": "[encoded data removed]",
      "text/plain": [
       "<Figure size 432x288 with 2 Axes>"
      ]
     },
     "metadata": {
      "needs_background": "light"
     },
     "output_type": "display_data"
    }
   ],
   "source": [
    "pv=origen.pivot_table(values='availability_365', index= 'price', columns='neighbourhood')\n",
    "sns.heatmap(pv)"
   ]
  },
  {
   "cell_type": "markdown",
   "metadata": {},
   "source": [
    "9. ¿El número de reviews afecta cuantas veces se renta un lugar?"
   ]
  },
  {
   "cell_type": "code",
   "execution_count": null,
   "metadata": {},
   "outputs": [],
   "source": []
  },
  {
   "cell_type": "markdown",
   "metadata": {},
   "source": [
    "10. ¿El neighbourhood influye en cuantas veces se renta un lugar?"
   ]
  },
  {
   "cell_type": "code",
   "execution_count": null,
   "metadata": {},
   "outputs": [],
   "source": []
  }
 ],
 "metadata": {
  "kernelspec": {
   "display_name": "Python 3",
   "language": "python",
   "name": "python3"
  },
  "language_info": {
   "codemirror_mode": {
    "name": "ipython",
    "version": 3
   },
   "file_extension": ".py",
   "mimetype": "text/x-python",
   "name": "python",
   "nbconvert_exporter": "python",
   "pygments_lexer": "ipython3",
   "version": "3.8.3"
  }
 },
 "nbformat": 4,
 "nbformat_minor": 4
}
